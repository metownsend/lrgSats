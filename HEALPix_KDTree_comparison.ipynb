{
 "cells": [
  {
   "cell_type": "code",
   "execution_count": 1,
   "metadata": {},
   "outputs": [],
   "source": [
    "import random\n",
    "from astropy.io import fits\n",
    "from astropy.table import Table\n",
    "import numpy as np\n",
    "import matplotlib.pylab as plt \n",
    "import matplotlib.lines as mlines\n",
    "from matplotlib.legend import Legend\n",
    "from pythonds.basic.stack import Stack\n",
    "from math import *\n",
    "from sklearn.neighbors import KDTree\n",
    "from lrg_plot_functions import *\n",
    "from lrg_sum_functions import *\n",
    "from cosmo_Calc import *\n",
    "from divideByTwo import *\n",
    "from readData import *\n",
    "from nearNeighbors import *\n",
    "from localBKG import *\n",
    "from scipy import stats\n",
    "from bestBkg import *\n",
    "from astropy import stats\n",
    "import healpy as hp\n",
    "from nearNeighborsHEALPix import *\n",
    "from localBKG_and_interlopersHEALPix import *\n",
    "import healpy as hpy"
   ]
  },
  {
   "cell_type": "code",
   "execution_count": 25,
   "metadata": {},
   "outputs": [
    {
     "name": "stdout",
     "output_type": "stream",
     "text": [
      "length of fake LRG sources (ra) =  250\n",
      "length of fake LRG sources (dec) =  250\n",
      "length of fake survey sources (ra) =  10000\n",
      "length of fake survey sources (dec) =  10000\n",
      "length of array of redshifts for fake LRGs = 250\n",
      "max z =  0.4955687538978121\n",
      "min z =  0.10030321077254736\n",
      "length of gmag for survey soruces = 10000\n",
      "length of rmag for survey soruces = 10000\n",
      "max color =  15.970448175399557\n",
      "min color =  -9.923873860887019\n",
      "length of gmag for survey soruces = 250\n",
      "length of rmag for survey soruces = 250\n",
      "max gmag_lrg =  22.979123708538054\n",
      "min gmag_lrg =  17.057561722926444\n",
      "max rmag_lrg =  20.94767682558188\n",
      "min rmag_lrg =  16.014742598426906\n",
      "length of color_lrg =  250\n",
      "max gmag_plus =  28.99905248291814\n",
      "min gmag_plus =  14.000028225216642\n",
      "max rmag_plus =  23.999727380958333\n",
      "min rmag_plus =  13.00045742802278\n",
      "length of color_plus =  10250\n"
     ]
    }
   ],
   "source": [
    "# Define all relevant physical variables needed throughout the program, including:\n",
    "# - number of LRG sources\n",
    "# - number of survey (non-LRG) sources\n",
    "# - coordinates for LRGs\n",
    "# - coordinates for survey sources\n",
    "# - projected radius from LRGs\n",
    "# - LRG redshift\n",
    "# - gmag and rmag for survey sources\n",
    "# - gmag and rmag for LRGs\n",
    "# - (g-r) color survey sources\n",
    "# - (g-r) color for LRGs\n",
    "\n",
    "# Number of LRG sources\n",
    "lrg = 250\n",
    "\n",
    "# Number of survey (non-LRG) sources\n",
    "survey = 10000\n",
    "\n",
    "# Fake coordinates for LRG sources\n",
    "random.seed(1)\n",
    "x0 = [np.random.uniform(0,5) for j in range(lrg)]\n",
    "\n",
    "random.seed(2)\n",
    "y0 = [np.random.uniform(0,5) for j in range(lrg)]\n",
    "\n",
    "# y0 = random.sample(y0, len(y0))\n",
    "print(\"length of fake LRG sources (ra) = \", len(x0))\n",
    "print(\"length of fake LRG sources (dec) = \", len(y0))\n",
    "# print(\"x0 = \", x0)\n",
    "# print(\"y0 = \", y0)\n",
    "# print(type(y0))\n",
    "\n",
    "# Fake coordinates for survey sources\n",
    "random.seed(3)\n",
    "x1 = [np.random.uniform(0,5) for j in range(survey)]\n",
    "\n",
    "random.seed(4)\n",
    "y1 = [np.random.uniform(0,5) for j in range(survey)]\n",
    "# y1 = random.sample(y1, len(y1))\n",
    "    \n",
    "print(\"length of fake survey sources (ra) = \", len(x1))\n",
    "print(\"length of fake survey sources (dec) = \", len(y1))    \n",
    "\n",
    "# In order for there to be at least one guaranteed satellite, combine the survey and lrg position arrays so that one\n",
    "# survey source position is the same as an LRG position\n",
    "x_plus = np.concatenate([x0, x1])\n",
    "y_plus = np.concatenate([y0, y1])\n",
    "\n",
    "# print(\"length of x_plus (ra) (lrgs + survey) =\", len(x_plus))\n",
    "# print(\"length of y_plus (dec) (lrg + survey) =\", len(y_plus))\n",
    "\n",
    "# Redshift for LRG \n",
    "random.seed(0.2)\n",
    "z = [np.random.uniform(0.1,0.5) for j in range(lrg)]\n",
    "    \n",
    "print(\"length of array of redshifts for fake LRGs =\", len(z))\n",
    "print(\"max z = \", np.amax(z))\n",
    "print(\"min z = \", np.amin(z))\n",
    "\n",
    "# Magnitudes for survey sources\n",
    "# random.seed(15)\n",
    "# gmag_plus = [np.random.uniform(14,29) for j in range(len(x_plus))]\n",
    "# random.seed(16)\n",
    "# rmag_plus = [np.random.uniform(13,24) for j in range(len(x_plus))]\n",
    "\n",
    "# gmag_plus = np.array(gmag_plus)\n",
    "# rmag_plus = np.array(rmag_plus)\n",
    "# color_plus = gmag_plus - rmag_plus\n",
    "    \n",
    "# print(\"length of gmag for survey soruces =\", len(gmag_plus))\n",
    "# print(\"length of rmag for survey soruces =\", len(rmag_plus))\n",
    "# print(\"max gmag_plus = \", np.amax(gmag_plus))\n",
    "# print(\"min gmag_plus = \", np.amin(gmag_plus))\n",
    "# print(\"max rmag_plus = \", np.amax(rmag_plus))\n",
    "# print(\"min rmag_plus = \", np.amin(rmag_plus))\n",
    "# print(\"length of color_plus = \", len(color_plus))\n",
    "# print(\"max color = \", np.amax(color_plus))\n",
    "# print(\"min color = \", np.amin(color_plus))\n",
    "\n",
    "random.seed(15)\n",
    "gmag_survey = [np.random.uniform(14,29) for j in range(len(x1))]\n",
    "random.seed(16)\n",
    "rmag_survey = [np.random.uniform(13,24) for j in range(len(x1))]\n",
    "\n",
    "gmag_survey = np.array(gmag_survey)\n",
    "rmag_survey = np.array(rmag_survey)\n",
    "color_survey = gmag_survey - rmag_survey\n",
    "    \n",
    "print(\"length of gmag for survey soruces =\", len(gmag_survey))\n",
    "print(\"length of rmag for survey soruces =\", len(rmag_survey))\n",
    "print(\"max color = \", np.amax(color_survey))\n",
    "print(\"min color = \", np.amin(color_survey))\n",
    "\n",
    "# Magnitudes for LRG sources\n",
    "random.seed(20)\n",
    "gmag_lrg = [np.random.uniform(17,23) for j in range(lrg)]\n",
    "random.seed(21)\n",
    "rmag_lrg = [np.random.uniform(16,21) for j in range(lrg)]\n",
    "    \n",
    "print(\"length of gmag for survey soruces =\", len(gmag_lrg))\n",
    "print(\"length of rmag for survey soruces =\", len(rmag_lrg))\n",
    "print(\"max gmag_lrg = \", np.amax(gmag_lrg))\n",
    "print(\"min gmag_lrg = \", np.amin(gmag_lrg))\n",
    "print(\"max rmag_lrg = \", np.amax(rmag_lrg))\n",
    "print(\"min rmag_lrg = \", np.amin(rmag_lrg))\n",
    "\n",
    "gmag_lrg = np.array(gmag_lrg)\n",
    "rmag_lrg = np.array(rmag_lrg)\n",
    "color_lrg = gmag_lrg - rmag_lrg\n",
    "print(\"length of color_lrg = \", len(color_lrg))\n",
    "\n",
    "# distance = 0.5 # in Mpc\n",
    "# print(\"distance in Mpc =\", distance)\n",
    "# distance_kpc = distance * 10.**3. # in kpc\n",
    "# print(\"distance in kpc = \", distance_kpc)\n",
    "\n",
    "rmag_plus = np.concatenate([rmag_lrg, rmag_survey])\n",
    "gmag_plus = np.concatenate([gmag_lrg, gmag_survey])\n",
    "\n",
    "color_plus = np.concatenate([color_lrg, color_survey])\n",
    "\n",
    "print(\"max gmag_plus = \", np.amax(gmag_plus))\n",
    "print(\"min gmag_plus = \", np.amin(gmag_plus))\n",
    "print(\"max rmag_plus = \", np.amax(rmag_plus))\n",
    "print(\"min rmag_plus = \", np.amin(rmag_plus))\n",
    "print(\"length of color_plus = \", len(color_plus))\n"
   ]
  },
  {
   "cell_type": "code",
   "execution_count": 26,
   "metadata": {},
   "outputs": [
    {
     "name": "stdout",
     "output_type": "stream",
     "text": [
      "end cosmoCalc\n"
     ]
    }
   ],
   "source": [
    "DTT_Gyr, age_Gyr, zage_Gyr, DCMR_Mpc, DCMR_Gyr, DA_Mpc, DA_Gyr, kpc_DA, DL_Mpc, DL_Gyr, V_Gpc = cosmoCalcfunc(z)\n",
    "\n",
    "print(\"end cosmoCalc\")"
   ]
  },
  {
   "cell_type": "code",
   "execution_count": 27,
   "metadata": {},
   "outputs": [],
   "source": [
    "row = 10\n",
    "column = 10\n",
    "rmag = np.concatenate([rmag_lrg, rmag_survey])\n",
    "color = np.concatenate([color_lrg, color_survey])\n",
    "\n",
    "xedges = np.array([13., 14., 15., 16., 17., 18., 19., 20., 21., 22., 23., 24.])\n",
    "yedges = np.array([-10., -8., -6., -4., -2., 0., 2., 4., 6., 8., 10., 12., 14., 16.]) \n",
    "\n",
    "# creates histogram for survey sources; excludes LRGs\n",
    "H, xedges, yedges = np.histogram2d(rmag_plus, color_plus, normed=False)\n",
    "# print(\"xedges: \", xedges)\n",
    "# print(\"yedges: \", yedges)\n",
    "\n",
    "# Uses the numbers counted in the histogram to calculate a surface density: For each cell, the number of sources\n",
    "# divided by the area \n",
    "sd = H/(25.) # * (3600.**2.)) # converts square degrees to square arcseconds"
   ]
  },
  {
   "cell_type": "code",
   "execution_count": 54,
   "metadata": {},
   "outputs": [
    {
     "name": "stdout",
     "output_type": "stream",
     "text": [
      "length phi:  10250\n"
     ]
    }
   ],
   "source": [
    "# Make HEALPix map using just RA/Dec; end up with a density plot\n",
    "\n",
    "nside = 1024\n",
    "npixel = hpy.nside2npix(nside)\n",
    "\n",
    "# Convert ra/dec into theta/phi\n",
    "theta = []\n",
    "phi = []\n",
    "\n",
    "for i in range(len(x_plus)):\n",
    "    theta.append(np.radians(90. - y_plus[i]))\n",
    "    phi.append(np.radians(x_plus[i]))\n",
    "\n",
    "print('length phi: ', len(phi))\n",
    "\n",
    "# Convert angles theta and phi to pixel numbers\n",
    "\n",
    "pixnums = hpy.ang2pix(nside, theta, phi, nest=True)\n",
    "# print('pixnums: ', pixnums)\n",
    "# print(pixnums[0])\n",
    "# print('length pixnums: ', len(pixnums))\n",
    "# print('length ra: ', len(ra))\n",
    "\n",
    "\n",
    "# Create a HEALPix map from pix\n",
    "# mapp = np.bincount(pixnums, minlength=npixel)\n",
    "\n",
    "# Plot mapp\n",
    "# hpy.gnomview(mapp, xsize=225, ysize=225, rot=(-116.5, 9.), flip='geo', nest=True, title='Density Map (nobs >= 2)')\n",
    "# plt.show()"
   ]
  },
  {
   "cell_type": "code",
   "execution_count": 55,
   "metadata": {},
   "outputs": [
    {
     "name": "stdout",
     "output_type": "stream",
     "text": [
      "end nearNeighbor_kdtree\n",
      "end nearNeighbor_HPIX\n"
     ]
    }
   ],
   "source": [
    "# compare near neighbor functions using kdtree and HEALPix\n",
    "\n",
    "distance = 0.5 # must be in Mpc\n",
    "\n",
    "distance_kpc, near_kdtree, gal_tree, dist, index, num = nearNeighbor(distance, kpc_DA, x0, y0, x1, y1, rmag_lrg, rmag_survey, color_lrg, color_survey, xedges, yedges)\n",
    "\n",
    "print('end nearNeighbor_kdtree')\n",
    "\n",
    "indicesNEAR, near_HPIX = nearNeighborsHEALPix(distance_kpc, kpc_DA, x0, y0, nside, pixnums, rmag_plus, color_plus, xedges, yedges)\n",
    "\n",
    "print('end nearNeighbor_HPIX')\n"
   ]
  },
  {
   "cell_type": "code",
   "execution_count": 56,
   "metadata": {},
   "outputs": [
    {
     "name": "stdout",
     "output_type": "stream",
     "text": [
      "0\n",
      "2\n"
     ]
    }
   ],
   "source": [
    "print(len(index[0]))\n",
    "print(len(indicesNEAR[0]))"
   ]
  },
  {
   "cell_type": "code",
   "execution_count": 57,
   "metadata": {},
   "outputs": [
    {
     "name": "stdout",
     "output_type": "stream",
     "text": [
      "mean number of near neighbors is 1.664\n",
      "median number of near neighbors is 1.0\n",
      "standard deviation of near neighbor is 1.9118326286576448\n",
      "standard error is 0.12115746997243085\n"
     ]
    },
    {
     "data": {
      "image/png": "[encoded data removed]",
      "text/plain": [
       "<Figure size 720x576 with 1 Axes>"
      ]
     },
     "metadata": {
      "needs_background": "light"
     },
     "output_type": "display_data"
    },
    {
     "name": "stdout",
     "output_type": "stream",
     "text": [
      "mean number of near neighbors is 5.968\n",
      "median number of near neighbors is 5.0\n",
      "standard deviation of near neighbor is 3.637440858625745\n",
      "standard error is 0.2305134481959714\n"
     ]
    },
    {
     "data": {
      "image/png": "[encoded data removed]",
      "text/plain": [
       "<Figure size 720x576 with 1 Axes>"
      ]
     },
     "metadata": {
      "needs_background": "light"
     },
     "output_type": "display_data"
    }
   ],
   "source": [
    "totalNear(near_kdtree)\n",
    "\n",
    "plt.show()\n",
    "\n",
    "totalNear(near_HPIX)\n",
    "\n",
    "plt.show()\n"
   ]
  },
  {
   "cell_type": "code",
   "execution_count": 58,
   "metadata": {},
   "outputs": [
    {
     "name": "stdout",
     "output_type": "stream",
     "text": [
      "250\n",
      "end bkg_kdtree\n",
      "end bkg_HPIX\n"
     ]
    }
   ],
   "source": [
    "# compare interloper functions using kdtree and HEALPix\n",
    "\n",
    "# kd tree\n",
    "\n",
    "distance_r2 = 0.4 # in degree\n",
    "distance_r3 = 0.5 # in degree\n",
    "\n",
    "numbkg, med_local, sigma, omega, Nbkg_kdtree = localBKG_and_interlopers(distance_kpc, distance_r2, distance_r3, kpc_DA, x0, y0, x1, y1, rmag_lrg, rmag_survey, color_lrg, color_survey, xedges, yedges)\n",
    "\n",
    "print(\"end bkg_kdtree\")\n",
    "\n",
    "# HEALPix\n",
    "\n",
    "inner_dist = 0.4 # in deg\n",
    "outer_dist = 0.5 # in deg\n",
    "\n",
    "Nbkg_HPIX, indicesBKG = localBKG_and_interlopersHEALPix(nside, inner_dist, outer_dist, x0, y0, pixnums, rmag_plus, color_plus, xedges, yedges, distance_kpc, kpc_DA)\n",
    "\n",
    "print(\"end bkg_HPIX\")\n",
    "    "
   ]
  },
  {
   "cell_type": "code",
   "execution_count": 59,
   "metadata": {},
   "outputs": [
    {
     "name": "stdout",
     "output_type": "stream",
     "text": [
      "mean number of interlopers is 1.5826737317599544\n",
      "median number of interlopers is 1.1935279028327046\n",
      "standard deviation of interloper is 1.1826332904940156\n",
      "standard error is 0.07494633956636171\n"
     ]
    },
    {
     "data": {
      "image/png": "[encoded data removed]",
      "text/plain": [
       "<Figure size 720x576 with 1 Axes>"
      ]
     },
     "metadata": {
      "needs_background": "light"
     },
     "output_type": "display_data"
    },
    {
     "name": "stdout",
     "output_type": "stream",
     "text": [
      "mean number of interlopers is 1.1537274595591065\n",
      "median number of interlopers is 0.8851368818728216\n",
      "standard deviation of interloper is 0.8877903972614672\n",
      "standard error is 0.05626143041273519\n"
     ]
    },
    {
     "data": {
      "image/png": "[encoded data removed]",
      "text/plain": [
       "<Figure size 720x576 with 1 Axes>"
      ]
     },
     "metadata": {
      "needs_background": "light"
     },
     "output_type": "display_data"
    }
   ],
   "source": [
    "totalNbkg(Nbkg_kdtree)\n",
    "\n",
    "plt.show()\n",
    "\n",
    "totalNbkg(Nbkg_HPIX)\n",
    "\n",
    "plt.show()"
   ]
  },
  {
   "cell_type": "code",
   "execution_count": 60,
   "metadata": {},
   "outputs": [
    {
     "name": "stdout",
     "output_type": "stream",
     "text": [
      "121\n",
      "89\n"
     ]
    }
   ],
   "source": [
    "print(numbkg[1])\n",
    "print(len(indicesBKG[1]))"
   ]
  },
  {
   "cell_type": "code",
   "execution_count": null,
   "metadata": {},
   "outputs": [],
   "source": []
  }
 ],
 "metadata": {
  "kernelspec": {
   "display_name": "Python 3",
   "language": "python",
   "name": "python3"
  },
  "language_info": {
   "codemirror_mode": {
    "name": "ipython",
    "version": 3
   },
   "file_extension": ".py",
   "mimetype": "text/x-python",
   "name": "python",
   "nbconvert_exporter": "python",
   "pygments_lexer": "ipython3",
   "version": "3.5.5"
  }
 },
 "nbformat": 4,
 "nbformat_minor": 2
}
